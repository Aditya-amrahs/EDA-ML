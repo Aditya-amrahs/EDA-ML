{
 "cells": [
  {
   "cell_type": "code",
   "execution_count": 1,
   "id": "2859c74d-a589-45ce-9516-aa26db4f47f9",
   "metadata": {},
   "outputs": [],
   "source": [
    "import pandas as pd\n",
    "import matplotlib.pyplot as plt\n",
    "import seaborn as sns"
   ]
  },
  {
   "cell_type": "code",
   "execution_count": 2,
   "id": "71a006ec-a3d5-4539-9f5a-b39230e67a7e",
   "metadata": {},
   "outputs": [],
   "source": [
    "df = pd.read_csv(\"Titanic.csv\")"
   ]
  },
  {
   "cell_type": "code",
   "execution_count": 3,
   "id": "cc7c9f82-af72-4a39-a9d6-0714b0c14630",
   "metadata": {},
   "outputs": [
    {
     "data": {
      "text/html": [
       "<div>\n",
       "<style scoped>\n",
       "    .dataframe tbody tr th:only-of-type {\n",
       "        vertical-align: middle;\n",
       "    }\n",
       "\n",
       "    .dataframe tbody tr th {\n",
       "        vertical-align: top;\n",
       "    }\n",
       "\n",
       "    .dataframe thead th {\n",
       "        text-align: right;\n",
       "    }\n",
       "</style>\n",
       "<table border=\"1\" class=\"dataframe\">\n",
       "  <thead>\n",
       "    <tr style=\"text-align: right;\">\n",
       "      <th></th>\n",
       "      <th>Survived</th>\n",
       "      <th>Count</th>\n",
       "      <th>AgeGroup</th>\n",
       "    </tr>\n",
       "  </thead>\n",
       "  <tbody>\n",
       "    <tr>\n",
       "      <th>0</th>\n",
       "      <td>0</td>\n",
       "      <td>243</td>\n",
       "      <td>30 and under</td>\n",
       "    </tr>\n",
       "    <tr>\n",
       "      <th>1</th>\n",
       "      <td>1</td>\n",
       "      <td>166</td>\n",
       "      <td>30 and under</td>\n",
       "    </tr>\n",
       "    <tr>\n",
       "      <th>0</th>\n",
       "      <td>0</td>\n",
       "      <td>181</td>\n",
       "      <td>over 30</td>\n",
       "    </tr>\n",
       "    <tr>\n",
       "      <th>1</th>\n",
       "      <td>1</td>\n",
       "      <td>124</td>\n",
       "      <td>over 30</td>\n",
       "    </tr>\n",
       "  </tbody>\n",
       "</table>\n",
       "</div>"
      ],
      "text/plain": [
       "   Survived  Count      AgeGroup\n",
       "0         0    243  30 and under\n",
       "1         1    166  30 and under\n",
       "0         0    181       over 30\n",
       "1         1    124       over 30"
      ]
     },
     "execution_count": 3,
     "metadata": {},
     "output_type": "execute_result"
    }
   ],
   "source": [
    "# Filter the DataFrame into two age groups\n",
    "df_under30 = df[df.Age <= 30]\n",
    "df_over30 = df[df.Age > 30]\n",
    "\n",
    "# Get value counts for the 'Survived' column in each group and convert to DataFrame\n",
    "count_under = df_under30['Survived'].value_counts().reset_index()\n",
    "count_under.columns = ['Survived', 'Count']\n",
    "count_under['AgeGroup'] = '30 and under'\n",
    "\n",
    "count_over = df_over30['Survived'].value_counts().reset_index()\n",
    "count_over.columns = ['Survived', 'Count']\n",
    "count_over['AgeGroup'] = 'over 30'\n",
    "\n",
    "# Combine both results\n",
    "comparison_df = pd.concat([count_under, count_over])\n",
    "\n",
    "comparison_df"
   ]
  },
  {
   "cell_type": "code",
   "execution_count": 4,
   "id": "314b2276-565b-4da3-afc2-84ed6291a81d",
   "metadata": {},
   "outputs": [
    {
     "data": {
      "image/png": "[encoded data removed]",
      "text/plain": [
       "<Figure size 640x480 with 1 Axes>"
      ]
     },
     "metadata": {},
     "output_type": "display_data"
    }
   ],
   "source": [
    "# Plot the comparison using Seaborn\n",
    "#sns.barplot(x='AgeGroup', y='Count', hue='Survived', data=comparison_df, color=[FF0000, 008000])\n",
    "sns.barplot(x='AgeGroup', y='Count', hue='Survived', data=comparison_df, palette=['#FF0000', '#008000'])\n",
    "plt.title(\"Survived by Age group\")\n",
    "plt.show() #Add plt.show() to show the plot if it is not in a notebook."
   ]
  }
 ],
 "metadata": {
  "kernelspec": {
   "display_name": "Python 3 (ipykernel)",
   "language": "python",
   "name": "python3"
  },
  "language_info": {
   "codemirror_mode": {
    "name": "ipython",
    "version": 3
   },
   "file_extension": ".py",
   "mimetype": "text/x-python",
   "name": "python",
   "nbconvert_exporter": "python",
   "pygments_lexer": "ipython3",
   "version": "3.11.6"
  }
 },
 "nbformat": 4,
 "nbformat_minor": 5
}
